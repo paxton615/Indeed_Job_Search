{
 "cells": [
  {
   "cell_type": "code",
   "execution_count": 2,
   "metadata": {
    "focus": false,
    "id": "2efefc73-064a-482d-b3b5-ddf5508cb4ec"
   },
   "outputs": [],
   "source": [
    "import requests\n",
    "import bs4\n",
    "from bs4 import BeautifulSoup\n",
    "import re"
   ]
  },
  {
   "cell_type": "code",
   "execution_count": 3,
   "metadata": {},
   "outputs": [
    {
     "name": "stdout",
     "output_type": "stream",
     "text": [
      "['London', 'Manchester', 'Birmingham', 'Wolverhampton', 'Leeds', 'Bradford', 'Glasgow', 'Southampton', 'Portsmouth', 'Liverpool', 'Newcastle', 'Nottingham', 'Sheffield', 'Bristol', 'Belfast', 'Leicester']\n"
     ]
    }
   ],
   "source": [
    "cities = 'London ,Manchester,Birmingham,Wolverhampton ,Leeds, Bradford ,Glasgow ,Southampton,Portsmouth ,Liverpool ,Newcastle ,Nottingham ,Sheffield,Bristol,Belfast,Leicester'\n",
    "city_lst = []\n",
    "for i in cities.split(','):\n",
    "    city_lst.append(i.strip())\n",
    "    \n",
    "print(city_lst)"
   ]
  },
  {
   "cell_type": "code",
   "execution_count": 4,
   "metadata": {
    "focus": false,
    "id": "2c6752c4-7704-4c94-8bc0-6f13d2d0d570"
   },
   "outputs": [
    {
     "data": {
      "text/plain": [
       "200"
      ]
     },
     "execution_count": 4,
     "metadata": {},
     "output_type": "execute_result"
    }
   ],
   "source": [
    "url = 'https://www.indeed.co.uk/jobs?q=junior+data+scientist&l=london&start=0'\n",
    "# url = 'https://www.indeed.co.uk/jobs?q=junior+data+scientist&l=london&start=10' # worked fine\n",
    "r = requests.get(url)\n",
    "r.status_code"
   ]
  },
  {
   "cell_type": "code",
   "execution_count": 5,
   "metadata": {},
   "outputs": [],
   "source": [
    "# Create soup and have a glimpse\n",
    "soup = BeautifulSoup(r.text, 'html.parser')\n",
    "# print(soup.prettify())"
   ]
  },
  {
   "cell_type": "code",
   "execution_count": 6,
   "metadata": {},
   "outputs": [
    {
     "name": "stdout",
     "output_type": "stream",
     "text": [
      "<a class=\"jobtitle turnstileLink\" data-tn-element=\"jobTitle\" href=\"/pagead/clk?mo=r&amp;ad=-6NYlbfkN0Cdpx9aAHhCi6IxBm7L-gW0rZG6ofsPFgz8YtX9NiCSC6tgp2v2FnlkLVMv1e7U59Z9nriUuzD077MabQxFLXRu_Du8nLV3Kvjvjdpvs8cXgEklTlmNPVmnjxKkz2mgk2YrxdEOLvZMf6aLa15xSzE7hH5_Kh1253r7jj9AIaHD-kSh1SB0ZQWhvZnzrozRNc0ioojLR7zLc1PR3szqcAZrUKsCFXoiuBb9WHUMJfD4WsHgmxjqwVJgk6dZmDQG30KQD1aihgupvEZ31Fkndg5GLwifei_8Z-QM_zZqH-CJ36Oy8SG2DX3BtxWzrg4MX5pMVyGVUZUZJH8vcb1amoSAVucuxYzEU8Kc_rdtn12wdcIazpkqKWsN54ASDrrI_rv-zJ3SQ5E9bXCl_6pIGLH4_fQJ4esYSYP2hQAukjwvZl-31WghpkyydR1CI_XxMo6TyddNlH85YmFu1JeHALgb&amp;p=0&amp;fvj=1&amp;vjs=3\" id=\"sja0\" onclick=\"setRefineByCookie([]); sjoc('sja0', 0); convCtr('SJ'); rclk(this,jobmap[0],true,0);\" onmousedown=\"sjomd('sja0'); clk('sja0'); rclk(this,jobmap[0],0);\" rel=\"noopener nofollow\" target=\"_blank\" title=\"Junior Machine Learning Researcher / Data Scientist\">\n",
      "<b>Junior</b> Machine Learning Researcher / <b>Data</b> <b>Scientist</b></a>\n"
     ]
    }
   ],
   "source": [
    "bs = soup.find('a', attrs={'data-tn-element':'jobTitle'})\n",
    "print(bs)"
   ]
  },
  {
   "cell_type": "code",
   "execution_count": 12,
   "metadata": {},
   "outputs": [],
   "source": [
    "titles = []\n",
    "for page in range(0, 100, 10):\n",
    "    url = 'https://www.indeed.co.uk/jobs?q=junior+data+scientist&l=london&start={}'.format(page)\n",
    "    r = requests.get(url)\n",
    "    soup = BeautifulSoup(r.text, 'html.parser')\n",
    "    for title in soup.find_all('a', attrs={'data-tn-element':'jobTitle'}):\n",
    "        try:\n",
    "            titles.append(title.text.strip())\n",
    "        except:\n",
    "            titles.append('0')"
   ]
  },
  {
   "cell_type": "code",
   "execution_count": 13,
   "metadata": {},
   "outputs": [
    {
     "data": {
      "text/plain": [
       "['Junior Machine Learning Researcher / Data Scientist',\n",
       " 'Junior Data Scientist',\n",
       " 'Junior Data Analyst',\n",
       " 'Junior Data Scientist',\n",
       " 'Junior Machine Learning Researcher / Data Scientist',\n",
       " 'Data Scientist - ML Labs',\n",
       " 'Junior Marketing Executive',\n",
       " 'Sr. Data Scientist - ML Labs',\n",
       " 'Junior Data Scientist - London',\n",
       " 'Data Scientist',\n",
       " 'Data Scientist',\n",
       " 'Principal Data Scientist',\n",
       " 'Junior Product Manager - London',\n",
       " 'Senior Data Scientist',\n",
       " 'Senior Data Scientist',\n",
       " 'Data Scientist (Mid - Lead level)',\n",
       " 'AI-Quant - Junior',\n",
       " 'Data & Analytics Consultant (m/f/d)',\n",
       " 'Characterisation Scientist',\n",
       " 'Data Scientist',\n",
       " 'Senior Data Scientist (FTC - Maternity Cover)',\n",
       " 'Research Scientist – Evidence Synthesis',\n",
       " 'Software Engineer - Junior',\n",
       " 'Data & Analytics Consultant',\n",
       " 'Lead Data Scientist - NLP',\n",
       " 'Senior Data Scientist',\n",
       " 'Lead Data Scientist',\n",
       " 'Scientist, Cell & Gene Therapy Technologies',\n",
       " 'Data Scientist',\n",
       " 'Data Engineer',\n",
       " 'G7 Economists *Closing Date Extended*',\n",
       " 'Senior Data Scientist - Digital',\n",
       " 'Senior QAT Analyst (Data)',\n",
       " 'Full Stack Data Scientist - Mid/Senior - London',\n",
       " 'Senior Data Scientist',\n",
       " 'Lead Data Scientist',\n",
       " 'Senior Data Scientist',\n",
       " 'Scientific Researcher & Writer',\n",
       " 'Machine Learning Engineer',\n",
       " 'Data Science Manager',\n",
       " 'Data Scientist - Real World Evidence - 12-month Contract - G...',\n",
       " 'Lead Scientist',\n",
       " 'Nursing Associate',\n",
       " 'Senior Full Stack Data Scientist',\n",
       " 'Senior Data Scientist',\n",
       " 'MHRA lab Analyst / Lead Analyst',\n",
       " 'Data Scientist - Group Marketing',\n",
       " 'Principal Data Scientist',\n",
       " 'Research Associate - Physical Analytical Chemistry',\n",
       " 'Junior-Mid Level Front-End Engineer (UK/Spain)',\n",
       " 'Data Science',\n",
       " 'Principal Scientist - Method development & Validation',\n",
       " 'MSAT Pilot Lead Scientist',\n",
       " 'Account Manager, Direct Investment (EightBar)',\n",
       " 'Data Engineer',\n",
       " 'Associate Principal Scientist - Characterisation',\n",
       " 'Associate Principal Scientist - Characterisation',\n",
       " 'Senior Data Scientist - Maternity Cover',\n",
       " 'Senior Decision Scientist',\n",
       " 'Business Intelligence Engineering Manager',\n",
       " 'Junior Bioinformatician',\n",
       " 'Junior-Mid Level Back-End Developer (UK/Spain)',\n",
       " 'Frontend Engineer',\n",
       " 'Sr. Deep Learning Solutions Architect - ML Labs',\n",
       " 'Senior Data Scientist',\n",
       " 'Biotransformation Scientist and DMPK Design Lead',\n",
       " 'Account Manager, Direct Investment (EightBar)',\n",
       " 'Senior Scientist - Pharmaceutics',\n",
       " 'Senior Frontend Developer',\n",
       " 'BIG DATA ARCHITECT',\n",
       " 'Technical Lead: Data Applications',\n",
       " 'Junior E-commerce Operations Manager - DCB Lab',\n",
       " 'Software Engineer',\n",
       " 'Senior Data Scientist',\n",
       " 'Product Manager - Healthcare Data, Machine Learning & AI Sol...',\n",
       " 'Associate Principal Scientist - MDV',\n",
       " 'Head of Statistics / Principal Statistician',\n",
       " 'Lead Data Engineer',\n",
       " 'Data Architect',\n",
       " 'Senior Research Associate – Evidence Synthesis',\n",
       " 'Data Science Manager',\n",
       " 'Senior Developer',\n",
       " 'Senior Front End Software Engineer – Front Office Analytics',\n",
       " 'Lead Data Scientist',\n",
       " 'Business Intelligence Engineering Manager',\n",
       " 'Senior Manager - Social Media (Freelance)',\n",
       " 'Senior Software Engineer',\n",
       " 'Software Engineer',\n",
       " 'Software Engineer',\n",
       " 'Senior Data Scientist',\n",
       " 'Senior Data Engineer',\n",
       " 'Data Scientist Lead',\n",
       " 'Senior Product Manager (Data Visualisation / Analytics)',\n",
       " 'C# Developers',\n",
       " 'Senior Data Scientist (Growth Tribe)',\n",
       " 'Senior Data Engineer – London',\n",
       " 'Senior Software Engineer, Real-time Bidding Platforms',\n",
       " 'Senior Manager - Social Media',\n",
       " 'Research Fellow in Neuromorphic Olfaction and Robotics',\n",
       " 'Senior Software Engineer - Search Platform',\n",
       " 'Research Associate III/Senior Research Associate – Data Coll...',\n",
       " 'Senior Data Engineer',\n",
       " 'Tech Lead (Data Engineering)',\n",
       " 'Senior Scientist, High Throughput Screening',\n",
       " 'Senior DevOps Engineer',\n",
       " 'Product Manager (Data Scientist)',\n",
       " 'Software Engineer (DevOps)',\n",
       " 'Lead Machine Learning Engineer',\n",
       " 'Sr Business Intelligence Engineer',\n",
       " 'Scientific Leader, CNS Safety Pharmacology/Abuse Potential',\n",
       " 'Senior Product Manager (B2B)',\n",
       " 'Senior Software Engineer, Real-time Bidding Platforms',\n",
       " 'Senior Manager - Social Media',\n",
       " 'Research Fellow in Neuromorphic Olfaction and Robotics',\n",
       " 'Senior Software Engineer - Search Platform',\n",
       " 'Research Associate III/Senior Research Associate – Data Coll...',\n",
       " 'Senior Data Engineer',\n",
       " 'Tech Lead (Data Engineering)',\n",
       " 'Senior Scientist, High Throughput Screening',\n",
       " 'Senior DevOps Engineer',\n",
       " 'Product Manager (Data Scientist)',\n",
       " 'Software Engineer (DevOps)',\n",
       " 'Lead Machine Learning Engineer',\n",
       " 'Sr Business Intelligence Engineer',\n",
       " 'Scientific Leader, CNS Safety Pharmacology/Abuse Potential',\n",
       " 'Senior Product Manager (B2B)',\n",
       " 'Senior Software Engineer, Real-time Bidding Platforms',\n",
       " 'Senior Manager - Social Media',\n",
       " 'Research Fellow in Neuromorphic Olfaction and Robotics',\n",
       " 'Senior Software Engineer - Search Platform',\n",
       " 'Research Associate III/Senior Research Associate – Data Coll...',\n",
       " 'Senior Data Engineer',\n",
       " 'Tech Lead (Data Engineering)',\n",
       " 'Senior Scientist, High Throughput Screening',\n",
       " 'Senior DevOps Engineer',\n",
       " 'Product Manager (Data Scientist)',\n",
       " 'Software Engineer (DevOps)',\n",
       " 'Lead Machine Learning Engineer',\n",
       " 'Sr Business Intelligence Engineer',\n",
       " 'Scientific Leader, CNS Safety Pharmacology/Abuse Potential',\n",
       " 'Senior Product Manager (B2B)']"
      ]
     },
     "execution_count": 13,
     "metadata": {},
     "output_type": "execute_result"
    }
   ],
   "source": [
    "titles"
   ]
  },
  {
   "cell_type": "code",
   "execution_count": 7,
   "metadata": {
    "scrolled": true
   },
   "outputs": [
    {
     "name": "stdout",
     "output_type": "stream",
     "text": [
      "Junior Machine Learning Researcher / Data Scientist\n",
      "Junior Data Scientist\n",
      "Junior Data Analyst\n",
      "Junior Data Scientist\n",
      "Data Scientist - ML Labs\n",
      "Junior Marketing Executive\n",
      "Sr. Data Scientist - ML Labs\n",
      "Junior Data Scientist - London\n",
      "Data Scientist\n",
      "Data Scientist\n",
      "Senior Data Scientist\n",
      "Machine Learning Scientist\n",
      "Data Scientist - Applied Science\n",
      "Senior Data Scientist - Algorithms\n",
      "Principal Data Scientist\n"
     ]
    }
   ],
   "source": [
    "bs = soup.find_all('a', attrs={'data-tn-element':'jobTitle'})\n",
    "for title in bs:\n",
    "    print(title.text.strip())"
   ]
  },
  {
   "cell_type": "markdown",
   "metadata": {},
   "source": [
    "### companies, salaries, locations, job descriptions"
   ]
  },
  {
   "cell_type": "code",
   "execution_count": 8,
   "metadata": {},
   "outputs": [],
   "source": [
    "# bs = soup.find_all('span', attrs={'class':'company'})\n",
    "# for title in bs:\n",
    "#     print(title.text.strip())"
   ]
  },
  {
   "cell_type": "code",
   "execution_count": 9,
   "metadata": {},
   "outputs": [],
   "source": [
    "# money = []\n",
    "# bs = soup.find_all(\"span\",\"salary no-wrap\")\n",
    "# for title in bs:\n",
    "#     if len(title.text) >3  :\n",
    "#         money.append(title.text.strip())\n",
    "#     else:\n",
    "#         money.append('0')"
   ]
  },
  {
   "cell_type": "code",
   "execution_count": 10,
   "metadata": {},
   "outputs": [],
   "source": [
    "# bs = soup.find_all('span', attrs={'class':'location'})\n",
    "# for title in bs:\n",
    "#     print(title.text.strip())"
   ]
  },
  {
   "cell_type": "code",
   "execution_count": 11,
   "metadata": {},
   "outputs": [],
   "source": [
    "# bs = soup.find_all(\"div\",{\"class\":\"summary\"})\n",
    "# for title in bs:\n",
    "#     print(title.text.strip())"
   ]
  },
  {
   "cell_type": "code",
   "execution_count": null,
   "metadata": {},
   "outputs": [],
   "source": []
  }
 ],
 "metadata": {
  "kernelspec": {
   "display_name": "Python 3",
   "language": "python",
   "name": "python3"
  },
  "language_info": {
   "codemirror_mode": {
    "name": "ipython",
    "version": 3
   },
   "file_extension": ".py",
   "mimetype": "text/x-python",
   "name": "python",
   "nbconvert_exporter": "python",
   "pygments_lexer": "ipython3",
   "version": "3.8.3"
  },
  "toc": {
   "base_numbering": 1,
   "nav_menu": {},
   "number_sections": false,
   "sideBar": true,
   "skip_h1_title": true,
   "title_cell": "Table of Contents",
   "title_sidebar": "Contents",
   "toc_cell": false,
   "toc_position": {},
   "toc_section_display": "block",
   "toc_window_display": false
  }
 },
 "nbformat": 4,
 "nbformat_minor": 1
}
