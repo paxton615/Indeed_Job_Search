{
 "cells": [
  {
   "cell_type": "code",
   "execution_count": 18,
   "metadata": {
    "focus": false,
    "id": "2efefc73-064a-482d-b3b5-ddf5508cb4ec"
   },
   "outputs": [],
   "source": [
    "import requests\n",
    "import bs4\n",
    "from bs4 import BeautifulSoup\n",
    "import re\n",
    "import pandas as pd"
   ]
  },
  {
   "cell_type": "code",
   "execution_count": 3,
   "metadata": {},
   "outputs": [
    {
     "name": "stdout",
     "output_type": "stream",
     "text": [
      "['London', 'Manchester', 'Birmingham', 'Wolverhampton', 'Leeds', 'Bradford', 'Glasgow', 'Southampton', 'Portsmouth', 'Liverpool', 'Newcastle', 'Nottingham', 'Sheffield', 'Bristol', 'Belfast', 'Leicester']\n"
     ]
    }
   ],
   "source": [
    "cities = 'London ,Manchester,Birmingham,Wolverhampton ,Leeds, Bradford ,Glasgow ,Southampton,Portsmouth ,Liverpool ,Newcastle ,Nottingham ,Sheffield,Bristol,Belfast,Leicester'\n",
    "city_lst = []\n",
    "for i in cities.split(','):\n",
    "    city_lst.append(i.strip())\n",
    "    \n",
    "print(city_lst)"
   ]
  },
  {
   "cell_type": "code",
   "execution_count": 4,
   "metadata": {
    "focus": false,
    "id": "2c6752c4-7704-4c94-8bc0-6f13d2d0d570"
   },
   "outputs": [
    {
     "data": {
      "text/plain": [
       "200"
      ]
     },
     "execution_count": 4,
     "metadata": {},
     "output_type": "execute_result"
    }
   ],
   "source": [
    "url = 'https://www.indeed.co.uk/jobs?q=junior+data+scientist&l=london&start=0'\n",
    "# url = 'https://www.indeed.co.uk/jobs?q=junior+data+scientist&l=london&start=10' # worked fine\n",
    "r = requests.get(url)\n",
    "r.status_code"
   ]
  },
  {
   "cell_type": "code",
   "execution_count": 5,
   "metadata": {},
   "outputs": [],
   "source": [
    "# Create soup and have a glimpse\n",
    "soup = BeautifulSoup(r.text, 'html.parser')\n",
    "# print(soup.prettify())"
   ]
  },
  {
   "cell_type": "markdown",
   "metadata": {},
   "source": [
    "1.注意这里的 page 变量的使用。\n",
    "2.整个过程其实可以写成一个function。"
   ]
  },
  {
   "cell_type": "code",
   "execution_count": 12,
   "metadata": {},
   "outputs": [],
   "source": [
    "titles = []\n",
    "for page in range(0, 100, 10):\n",
    "    url = 'https://www.indeed.co.uk/jobs?q=junior+data+scientist&l=london&start={}'.format(page)\n",
    "    r = requests.get(url)\n",
    "    soup = BeautifulSoup(r.text, 'html.parser')\n",
    "    for title in soup.find_all('a', attrs={'data-tn-element':'jobTitle'}):\n",
    "        try:\n",
    "            titles.append(title.text.strip())\n",
    "        except:\n",
    "            titles.append('No content')"
   ]
  },
  {
   "cell_type": "code",
   "execution_count": 16,
   "metadata": {
    "scrolled": true
   },
   "outputs": [
    {
     "name": "stdout",
     "output_type": "stream",
     "text": [
      "141\n",
      "['Junior Machine Learning Researcher / Data Scientist', 'Junior Data Scientist', 'Junior Data Analyst', 'Junior Data Scientist', 'Junior Machine Learning Researcher / Data Scientist', 'Data Scientist - ML Labs', 'Junior Marketing Executive', 'Sr. Data Scientist - ML Labs', 'Junior Data Scientist - London', 'Data Scientist', 'Data Scientist', 'Principal Data Scientist', 'Junior Product Manager - London', 'Senior Data Scientist', 'Senior Data Scientist', 'Data Scientist (Mid - Lead level)', 'AI-Quant - Junior', 'Data & Analytics Consultant (m/f/d)', 'Characterisation Scientist', 'Data Scientist', 'Senior Data Scientist (FTC - Maternity Cover)', 'Research Scientist – Evidence Synthesis', 'Software Engineer - Junior', 'Data & Analytics Consultant', 'Lead Data Scientist - NLP', 'Senior Data Scientist', 'Lead Data Scientist', 'Scientist, Cell & Gene Therapy Technologies', 'Data Scientist', 'Data Engineer', 'G7 Economists *Closing Date Extended*', 'Senior Data Scientist - Digital', 'Senior QAT Analyst (Data)', 'Full Stack Data Scientist - Mid/Senior - London', 'Senior Data Scientist', 'Lead Data Scientist', 'Senior Data Scientist', 'Scientific Researcher & Writer', 'Machine Learning Engineer', 'Data Science Manager', 'Data Scientist - Real World Evidence - 12-month Contract - G...', 'Lead Scientist', 'Nursing Associate', 'Senior Full Stack Data Scientist', 'Senior Data Scientist', 'MHRA lab Analyst / Lead Analyst', 'Data Scientist - Group Marketing', 'Principal Data Scientist', 'Research Associate - Physical Analytical Chemistry', 'Junior-Mid Level Front-End Engineer (UK/Spain)', 'Data Science', 'Principal Scientist - Method development & Validation', 'MSAT Pilot Lead Scientist', 'Account Manager, Direct Investment (EightBar)', 'Data Engineer', 'Associate Principal Scientist - Characterisation', 'Associate Principal Scientist - Characterisation', 'Senior Data Scientist - Maternity Cover', 'Senior Decision Scientist', 'Business Intelligence Engineering Manager', 'Junior Bioinformatician', 'Junior-Mid Level Back-End Developer (UK/Spain)', 'Frontend Engineer', 'Sr. Deep Learning Solutions Architect - ML Labs', 'Senior Data Scientist', 'Biotransformation Scientist and DMPK Design Lead', 'Account Manager, Direct Investment (EightBar)', 'Senior Scientist - Pharmaceutics', 'Senior Frontend Developer', 'BIG DATA ARCHITECT', 'Technical Lead: Data Applications', 'Junior E-commerce Operations Manager - DCB Lab', 'Software Engineer', 'Senior Data Scientist', 'Product Manager - Healthcare Data, Machine Learning & AI Sol...', 'Associate Principal Scientist - MDV', 'Head of Statistics / Principal Statistician', 'Lead Data Engineer', 'Data Architect', 'Senior Research Associate – Evidence Synthesis', 'Data Science Manager', 'Senior Developer', 'Senior Front End Software Engineer – Front Office Analytics', 'Lead Data Scientist', 'Business Intelligence Engineering Manager', 'Senior Manager - Social Media (Freelance)', 'Senior Software Engineer', 'Software Engineer', 'Software Engineer', 'Senior Data Scientist', 'Senior Data Engineer', 'Data Scientist Lead', 'Senior Product Manager (Data Visualisation / Analytics)', 'C# Developers', 'Senior Data Scientist (Growth Tribe)', 'Senior Data Engineer – London', 'Senior Software Engineer, Real-time Bidding Platforms', 'Senior Manager - Social Media', 'Research Fellow in Neuromorphic Olfaction and Robotics', 'Senior Software Engineer - Search Platform', 'Research Associate III/Senior Research Associate – Data Coll...', 'Senior Data Engineer', 'Tech Lead (Data Engineering)', 'Senior Scientist, High Throughput Screening', 'Senior DevOps Engineer', 'Product Manager (Data Scientist)', 'Software Engineer (DevOps)', 'Lead Machine Learning Engineer', 'Sr Business Intelligence Engineer', 'Scientific Leader, CNS Safety Pharmacology/Abuse Potential', 'Senior Product Manager (B2B)', 'Senior Software Engineer, Real-time Bidding Platforms', 'Senior Manager - Social Media', 'Research Fellow in Neuromorphic Olfaction and Robotics', 'Senior Software Engineer - Search Platform', 'Research Associate III/Senior Research Associate – Data Coll...', 'Senior Data Engineer', 'Tech Lead (Data Engineering)', 'Senior Scientist, High Throughput Screening', 'Senior DevOps Engineer', 'Product Manager (Data Scientist)', 'Software Engineer (DevOps)', 'Lead Machine Learning Engineer', 'Sr Business Intelligence Engineer', 'Scientific Leader, CNS Safety Pharmacology/Abuse Potential', 'Senior Product Manager (B2B)', 'Senior Software Engineer, Real-time Bidding Platforms', 'Senior Manager - Social Media', 'Research Fellow in Neuromorphic Olfaction and Robotics', 'Senior Software Engineer - Search Platform', 'Research Associate III/Senior Research Associate – Data Coll...', 'Senior Data Engineer', 'Tech Lead (Data Engineering)', 'Senior Scientist, High Throughput Screening', 'Senior DevOps Engineer', 'Product Manager (Data Scientist)', 'Software Engineer (DevOps)', 'Lead Machine Learning Engineer', 'Sr Business Intelligence Engineer', 'Scientific Leader, CNS Safety Pharmacology/Abuse Potential', 'Senior Product Manager (B2B)']\n"
     ]
    }
   ],
   "source": [
    "print(len(titles))\n",
    "print(titles)"
   ]
  },
  {
   "cell_type": "code",
   "execution_count": 14,
   "metadata": {},
   "outputs": [],
   "source": [
    "salaries = []\n",
    "for page in range(0, 100, 10):\n",
    "    url = 'https://www.indeed.co.uk/jobs?q=junior+data+scientist&l=london&start={}'.format(page)\n",
    "    r = requests.get(url)\n",
    "    soup = BeautifulSoup(r.text, 'html.parser')\n",
    "    for title in soup.find_all(\"span\",\"salary no-wrap\"):\n",
    "        try:\n",
    "            salaries.append(title.text.strip())\n",
    "        except:\n",
    "            salaries.append('No content')"
   ]
  },
  {
   "cell_type": "code",
   "execution_count": 17,
   "metadata": {
    "scrolled": true
   },
   "outputs": [
    {
     "name": "stdout",
     "output_type": "stream",
     "text": [
      "33\n",
      "['£25,000 - £35,000 a year', '£50,000 - £110,000 a year', '£135,000 a year', '£65,000 - £70,000 a year', '£75,000 a year', '£47,078 - £59,889 a year', '£43,650 - £69,700 a year', '£80,000 - £90,000 a year', '£80,000 - £95,000 a year', '£135,000 a year', '£40,000 - £50,000 a year', '£90,000 a year', '£40,000 - £50,000 a year', '£60,000 - £70,000 a year', '£70,000 a year', '£70,000 a year', '£80,000 - £85,000 a year', '£500 - £650 a week', '£75,000 - £90,000 a year', '£40,000 - £55,000 a year', '£70,000 - £80,000 a year', '£33,797 - £40,322 a year', '£70,000 - £75,000 a year', '£80,000 - £95,000 a year', '£75,000 - £90,000 a year', '£33,797 - £40,322 a year', '£70,000 - £75,000 a year', '£80,000 - £95,000 a year', '£75,000 - £90,000 a year', '£33,797 - £40,322 a year', '£70,000 - £75,000 a year', '£80,000 - £95,000 a year', '£75,000 - £90,000 a year']\n"
     ]
    }
   ],
   "source": [
    "print(len(salaries))\n",
    "print(salaries)"
   ]
  },
  {
   "cell_type": "markdown",
   "metadata": {},
   "source": [
    "需求：把上面的titles和salaries装入一个pandas表格，让title和salary一一对应。"
   ]
  },
  {
   "cell_type": "code",
   "execution_count": 20,
   "metadata": {},
   "outputs": [],
   "source": [
    "# results = pd.DataFrame({'title':titles, 'salary':salaries})\n",
    "# results"
   ]
  },
  {
   "cell_type": "code",
   "execution_count": null,
   "metadata": {},
   "outputs": [],
   "source": [
    "# continue tomorrow"
   ]
  },
  {
   "cell_type": "code",
   "execution_count": null,
   "metadata": {},
   "outputs": [],
   "source": [
    "#sdfasdf"
   ]
  },
  {
   "cell_type": "markdown",
   "metadata": {},
   "source": [
    "### companies, salaries, locations, job descriptions"
   ]
  },
  {
   "cell_type": "code",
   "execution_count": 8,
   "metadata": {},
   "outputs": [],
   "source": [
    "# bs = soup.find_all('span', attrs={'class':'company'})\n",
    "# for title in bs:\n",
    "#     print(title.text.strip())"
   ]
  },
  {
   "cell_type": "code",
   "execution_count": 9,
   "metadata": {},
   "outputs": [],
   "source": [
    "# money = []\n",
    "# bs = soup.find_all(\"span\",\"salary no-wrap\")\n",
    "# for title in bs:\n",
    "#     if len(title.text) >3  :\n",
    "#         money.append(title.text.strip())\n",
    "#     else:\n",
    "#         money.append('0')"
   ]
  },
  {
   "cell_type": "code",
   "execution_count": 10,
   "metadata": {},
   "outputs": [],
   "source": [
    "# bs = soup.find_all('span', attrs={'class':'location'})\n",
    "# for title in bs:\n",
    "#     print(title.text.strip())"
   ]
  },
  {
   "cell_type": "code",
   "execution_count": 11,
   "metadata": {},
   "outputs": [],
   "source": [
    "# bs = soup.find_all(\"div\",{\"class\":\"summary\"})\n",
    "# for title in bs:\n",
    "#     print(title.text.strip())"
   ]
  },
  {
   "cell_type": "code",
   "execution_count": null,
   "metadata": {},
   "outputs": [],
   "source": []
  }
 ],
 "metadata": {
  "kernelspec": {
   "display_name": "Python 3",
   "language": "python",
   "name": "python3"
  },
  "language_info": {
   "codemirror_mode": {
    "name": "ipython",
    "version": 3
   },
   "file_extension": ".py",
   "mimetype": "text/x-python",
   "name": "python",
   "nbconvert_exporter": "python",
   "pygments_lexer": "ipython3",
   "version": "3.8.3"
  },
  "toc": {
   "base_numbering": 1,
   "nav_menu": {},
   "number_sections": false,
   "sideBar": true,
   "skip_h1_title": true,
   "title_cell": "Table of Contents",
   "title_sidebar": "Contents",
   "toc_cell": false,
   "toc_position": {},
   "toc_section_display": "block",
   "toc_window_display": false
  }
 },
 "nbformat": 4,
 "nbformat_minor": 1
}
